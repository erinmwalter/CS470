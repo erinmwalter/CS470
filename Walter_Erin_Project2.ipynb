{
 "cells": [
  {
   "cell_type": "markdown",
   "metadata": {},
   "source": [
    "# Treasure Hunt Game Notebook\n",
    "\n",
    "## Read and Review Your Starter Code\n",
    "The theme of this project is a popular treasure hunt game in which the player needs to find the treasure before the pirate does. While you will not be developing the entire game, you will write the part of the game that represents the intelligent agent, which is a pirate in this case. The pirate will try to find the optimal path to the treasure using deep Q-learning. \n",
    "\n",
    "You have been provided with two Python classes and this notebook to help you with this assignment. The first class, TreasureMaze.py, represents the environment, which includes a maze object defined as a matrix. The second class, GameExperience.py, stores the episodes – that is, all the states that come in between the initial state and the terminal state. This is later used by the agent for learning by experience, called \"exploration\". This notebook shows how to play a game. Your task is to complete the deep Q-learning implementation for which a skeleton implementation has been provided. The code blocs you will need to complete has #TODO as a header.\n",
    "\n",
    "First, read and review the next few code and instruction blocks to understand the code that you have been given."
   ]
  },
  {
   "cell_type": "code",
   "execution_count": 43,
   "metadata": {},
   "outputs": [],
   "source": [
    "from __future__ import print_function\n",
    "import os, sys, time, datetime, json, random\n",
    "import numpy as np\n",
    "from keras.models import Sequential\n",
    "from keras.layers.core import Dense, Activation\n",
    "from keras.optimizers import SGD , Adam, RMSprop\n",
    "from keras.layers.advanced_activations import PReLU\n",
    "import matplotlib.pyplot as plt\n",
    "from TreasureMaze import TreasureMaze\n",
    "from GameExperience import GameExperience\n",
    "%matplotlib inline"
   ]
  },
  {
   "cell_type": "markdown",
   "metadata": {},
   "source": [
    "The following code block contains an 8x8 matrix that will be used as a maze object:"
   ]
  },
  {
   "cell_type": "code",
   "execution_count": 44,
   "metadata": {},
   "outputs": [],
   "source": [
    "maze = np.array([\n",
    "    [ 1.,  0.,  1.,  1.,  1.,  1.,  1.,  1.],\n",
    "    [ 1.,  0.,  1.,  1.,  1.,  0.,  1.,  1.],\n",
    "    [ 1.,  1.,  1.,  1.,  0.,  1.,  0.,  1.],\n",
    "    [ 1.,  1.,  1.,  0.,  1.,  1.,  1.,  1.],\n",
    "    [ 1.,  1.,  0.,  1.,  1.,  1.,  1.,  1.],\n",
    "    [ 1.,  1.,  1.,  0.,  1.,  0.,  0.,  0.],\n",
    "    [ 1.,  1.,  1.,  0.,  1.,  1.,  1.,  1.],\n",
    "    [ 1.,  1.,  1.,  1.,  0.,  1.,  1.,  1.]\n",
    "])"
   ]
  },
  {
   "cell_type": "markdown",
   "metadata": {},
   "source": [
    "This helper function allows a visual representation of the maze object:"
   ]
  },
  {
   "cell_type": "code",
   "execution_count": 45,
   "metadata": {},
   "outputs": [],
   "source": [
    "def show(qmaze):\n",
    "    plt.grid('on')\n",
    "    nrows, ncols = qmaze.maze.shape\n",
    "    ax = plt.gca()\n",
    "    ax.set_xticks(np.arange(0.5, nrows, 1))\n",
    "    ax.set_yticks(np.arange(0.5, ncols, 1))\n",
    "    ax.set_xticklabels([])\n",
    "    ax.set_yticklabels([])\n",
    "    canvas = np.copy(qmaze.maze)\n",
    "    for row,col in qmaze.visited:\n",
    "        canvas[row,col] = 0.6\n",
    "    pirate_row, pirate_col, _ = qmaze.state\n",
    "    canvas[pirate_row, pirate_col] = 0.3   # pirate cell\n",
    "    canvas[nrows-1, ncols-1] = 0.9 # treasure cell\n",
    "    img = plt.imshow(canvas, interpolation='none', cmap='gray')\n",
    "    return img"
   ]
  },
  {
   "cell_type": "markdown",
   "metadata": {},
   "source": [
    "The pirate agent can move in four directions: left, right, up, and down. \n",
    "\n",
    "While the agent primarily learns by experience through exploitation, often, the agent can choose to explore the environment to find previously undiscovered paths. This is called \"exploration\" and is defined by epsilon. This value is typically a lower value such as 0.1, which means for every ten attempts, the agent will attempt to learn by experience nine times and will randomly explore a new path one time. You are encouraged to try various values for the exploration factor and see how the algorithm performs."
   ]
  },
  {
   "cell_type": "code",
   "execution_count": 46,
   "metadata": {},
   "outputs": [],
   "source": [
    "LEFT = 0\n",
    "UP = 1\n",
    "RIGHT = 2\n",
    "DOWN = 3\n",
    "\n",
    "\n",
    "# Exploration factor\n",
    "epsilon = 0.1\n",
    "\n",
    "# Actions dictionary\n",
    "actions_dict = {\n",
    "    LEFT: 'left',\n",
    "    UP: 'up',\n",
    "    RIGHT: 'right',\n",
    "    DOWN: 'down',\n",
    "}\n",
    "\n",
    "num_actions = len(actions_dict)\n"
   ]
  },
  {
   "cell_type": "markdown",
   "metadata": {},
   "source": [
    "The sample code block and output below show creating a maze object and performing one action (DOWN), which returns the reward. The resulting updated environment is visualized."
   ]
  },
  {
   "cell_type": "code",
   "execution_count": 47,
   "metadata": {},
   "outputs": [
    {
     "name": "stdout",
     "output_type": "stream",
     "text": [
      "reward= -0.04\n"
     ]
    },
    {
     "data": {
      "text/plain": [
       "<matplotlib.image.AxesImage at 0x1d9475d3788>"
      ]
     },
     "execution_count": 47,
     "metadata": {},
     "output_type": "execute_result"
    },
    {
     "data": {
      "image/png": "[encoded data removed]",
      "text/plain": [
       "<Figure size 432x288 with 1 Axes>"
      ]
     },
     "metadata": {
      "needs_background": "light"
     },
     "output_type": "display_data"
    }
   ],
   "source": [
    "qmaze = TreasureMaze(maze)\n",
    "canvas, reward, game_over = qmaze.act(DOWN)\n",
    "print(\"reward=\", reward)\n",
    "show(qmaze)"
   ]
  },
  {
   "cell_type": "markdown",
   "metadata": {},
   "source": [
    "This function simulates a full game based on the provided trained model. The other parameters include the TreasureMaze object and the starting position of the pirate."
   ]
  },
  {
   "cell_type": "code",
   "execution_count": 48,
   "metadata": {},
   "outputs": [],
   "source": [
    "def play_game(model, qmaze, pirate_cell):\n",
    "    qmaze.reset(pirate_cell)\n",
    "    envstate = qmaze.observe()\n",
    "    while True:\n",
    "        prev_envstate = envstate\n",
    "        # get next action\n",
    "        q = model.predict(prev_envstate)\n",
    "        action = np.argmax(q[0])\n",
    "\n",
    "        # apply action, get rewards and new state\n",
    "        envstate, reward, game_status = qmaze.act(action)\n",
    "        if game_status == 'win':\n",
    "            return True\n",
    "        elif game_status == 'lose':\n",
    "            return False"
   ]
  },
  {
   "cell_type": "markdown",
   "metadata": {},
   "source": [
    "This function helps you to determine whether the pirate can win any game at all. If your maze is not well designed, the pirate may not win any game at all. In this case, your training would not yield any result. The provided maze in this notebook ensures that there is a path to win and you can run this method to check."
   ]
  },
  {
   "cell_type": "code",
   "execution_count": 49,
   "metadata": {},
   "outputs": [],
   "source": [
    "def completion_check(model, qmaze):\n",
    "    for cell in qmaze.free_cells:\n",
    "        if not qmaze.valid_actions(cell):\n",
    "            return False\n",
    "        if not play_game(model, qmaze, cell):\n",
    "            return False\n",
    "    return True"
   ]
  },
  {
   "cell_type": "markdown",
   "metadata": {},
   "source": [
    "The code you have been given in this block will build the neural network model. Review the code and note the number of layers, as well as the activation, optimizer, and loss functions that are used to train the model."
   ]
  },
  {
   "cell_type": "code",
   "execution_count": 50,
   "metadata": {},
   "outputs": [],
   "source": [
    "def build_model(maze):\n",
    "    model = Sequential()\n",
    "    model.add(Dense(maze.size, input_shape=(maze.size,)))\n",
    "    model.add(PReLU())\n",
    "    model.add(Dense(maze.size))\n",
    "    model.add(PReLU())\n",
    "    model.add(Dense(num_actions))\n",
    "    model.compile(optimizer='adam', loss='mse')\n",
    "    return model"
   ]
  },
  {
   "cell_type": "markdown",
   "metadata": {},
   "source": [
    "# #TODO: Complete the Q-Training Algorithm Code Block\n",
    "\n",
    "This is your deep Q-learning implementation. The goal of your deep Q-learning implementation is to find the best possible navigation sequence that results in reaching the treasure cell while maximizing the reward. In your implementation, you need to determine the optimal number of epochs to achieve a 100% win rate.\n",
    "\n",
    "You will need to complete the section starting with #pseudocode. The pseudocode has been included for you."
   ]
  },
  {
   "cell_type": "code",
   "execution_count": 51,
   "metadata": {},
   "outputs": [],
   "source": [
    "def qtrain(model, maze, **opt):\n",
    "\n",
    "    # exploration factor\n",
    "    global epsilon \n",
    "    # number of epochs\n",
    "    n_epoch = opt.get('n_epoch', 15000)\n",
    "    # maximum memory to store episodes\n",
    "    max_memory = opt.get('max_memory', 1000)\n",
    "    # maximum data size for training\n",
    "    data_size = opt.get('data_size', 50)\n",
    "    # start time\n",
    "    start_time = datetime.datetime.now()\n",
    "    \n",
    "    #getting weights from previous model:\n",
    "    weights_file = opt.get('weights_file', \"\")\n",
    "    name = opt.get('name', 'model')\n",
    "    if weights_file:\n",
    "        print(\"loading weights from file: %s\" % (weights_file,))\n",
    "        model.load_weights(weights_file)\n",
    "        \n",
    "    # Construct environment/game from numpy array: maze (see above)\n",
    "    qmaze = TreasureMaze(maze)\n",
    "    # Initialize experience replay object\n",
    "    experience = GameExperience(model, max_memory=max_memory)\n",
    "    \n",
    "    win_history = []   # history of win/lose game\n",
    "    hsize = qmaze.maze.size // 2   # history window size\n",
    "    win_rate = 0.0\n",
    "    epoch = None\n",
    "    \n",
    "    #this will loop n_epoch (15000) times\n",
    "    for epoch in range(n_epoch):\n",
    "        #randomly select a free cell\n",
    "        agent_cell = random.choice(qmaze.free_cells)\n",
    "        #reset maze with agent set to above position\n",
    "        qmaze.reset(agent_cell)\n",
    "        #set environment state\n",
    "        envstate = qmaze.observe()\n",
    "        game_over=False\n",
    "        loss = 0\n",
    "        n_episodes = 0\n",
    "            \n",
    "        #while state is not game over\n",
    "        while not game_over:\n",
    "            previous_envstate = envstate\n",
    "            valid_actions = qmaze.valid_actions()\n",
    "            if not valid_actions:  \n",
    "                break\n",
    "                \n",
    "            #randomly choose action via explotation or exploration\n",
    "            if np.random.rand() < epsilon:\n",
    "                action = random.choice(valid_actions)\n",
    "            else:\n",
    "                action = np.argmax(experience.predict(previous_envstate))\n",
    "                    \n",
    "            #do the chosen action\n",
    "            envstate, reward, game_status = qmaze.act(action)\n",
    "            \n",
    "            if game_status == 'win':\n",
    "                win_history.append(1)\n",
    "                game_over = True\n",
    "            elif game_status == 'lose':\n",
    "                win_history.append(0)\n",
    "                game_over = True\n",
    "            else:\n",
    "            #game is not over yet so will continue\n",
    "                game_over = False\n",
    "\n",
    "            #remember episode\n",
    "            episode = [previous_envstate, action, reward, envstate, game_status]\n",
    "            #store episode\n",
    "            experience.remember(episode)\n",
    "                        \n",
    "            #increase episode count\n",
    "            n_episodes += 1\n",
    "            \n",
    "            inputs, targets = experience.get_data()\n",
    "            history = model.fit(inputs, targets, epochs=8, batch_size=16, verbose=0)\n",
    "            loss = model.evaluate(inputs, targets, verbose=0)\n",
    "                \n",
    "            \n",
    "        #check to see if win rate above threshhold\n",
    "        if len(win_history) > hsize:\n",
    "            win_rate = sum(win_history[-hsize:]) / hsize\n",
    "\n",
    "    #Print the epoch, loss, episodes, win count, and win rate for each epoch\n",
    "        dt = datetime.datetime.now() - start_time\n",
    "        t = format_time(dt.total_seconds())\n",
    "        template = \"Epoch: {:03d}/{:d} | Loss: {:.4f} | Episodes: {:d} | Win count: {:d} | Win rate: {:.3f} | time: {}\"\n",
    "        print(template.format(epoch, n_epoch-1, loss, n_episodes, sum(win_history), win_rate, t))\n",
    "        # We simply check if training has exhausted all free cells and if in all\n",
    "        # cases the agent won.\n",
    "        if win_rate > 0.9 : epsilon = 0.05\n",
    "        if sum(win_history[-hsize:]) == hsize and completion_check(model, qmaze):\n",
    "            print(\"Reached 100%% win rate at epoch: %d\" % (epoch,))\n",
    "            break\n",
    "    \n",
    "    #save model weights/arch and this will be used for visualization\n",
    "    h5file = name + '.h5'\n",
    "    json_file = name + '.json'\n",
    "    model.save_weights(h5file, overwrite=True)\n",
    "    \n",
    "    with open(json_file, \"w\") as outfile:\n",
    "        json.dump(model.to_json(), outfile)\n",
    "    \n",
    "    # Determine the total time for training\n",
    "    end_time=datetime.datetime.now()\n",
    "    dt = datetime.datetime.now() - start_time\n",
    "    seconds = dt.total_seconds()\n",
    "    t = format_time(seconds)\n",
    "\n",
    "    print(\"n_epoch: %d, max_mem: %d, data: %d, time: %s\" % (epoch, max_memory, data_size, t))\n",
    "    return seconds\n",
    "\n",
    "# This is a small utility for printing readable time strings:\n",
    "def format_time(seconds):\n",
    "    if seconds < 400:\n",
    "        s = float(seconds)\n",
    "        return \"%.1f seconds\" % (s,)\n",
    "    elif seconds < 4000:\n",
    "        m = seconds / 60.0\n",
    "        return \"%.2f minutes\" % (m,)\n",
    "    else:\n",
    "        h = seconds / 3600.0\n",
    "        return \"%.2f hours\" % (h,)"
   ]
  },
  {
   "cell_type": "markdown",
   "metadata": {},
   "source": [
    "## Test Your Model\n",
    "\n",
    "Now we will start testing the deep Q-learning implementation. To begin, select **Cell**, then **Run All** from the menu bar. This will run your notebook. As it runs, you should see output begin to appear beneath the next few cells. The code below creates an instance of TreasureMaze."
   ]
  },
  {
   "cell_type": "code",
   "execution_count": 52,
   "metadata": {},
   "outputs": [
    {
     "data": {
      "text/plain": [
       "<matplotlib.image.AxesImage at 0x1d94751d4c8>"
      ]
     },
     "execution_count": 52,
     "metadata": {},
     "output_type": "execute_result"
    },
    {
     "data": {
      "image/png": "[encoded data removed]",
      "text/plain": [
       "<Figure size 432x288 with 1 Axes>"
      ]
     },
     "metadata": {
      "needs_background": "light"
     },
     "output_type": "display_data"
    }
   ],
   "source": [
    "qmaze = TreasureMaze(maze)\n",
    "show(qmaze)"
   ]
  },
  {
   "cell_type": "markdown",
   "metadata": {},
   "source": [
    "In the next code block, you will build your model and train it using deep Q-learning. Note: This step takes several minutes to fully run."
   ]
  },
  {
   "cell_type": "code",
   "execution_count": 53,
   "metadata": {},
   "outputs": [
    {
     "name": "stdout",
     "output_type": "stream",
     "text": [
      "Epoch: 000/14999 | Loss: 0.0004 | Episodes: 136 | Win count: 0 | Win rate: 0.000 | time: 5.3 seconds\n",
      "Epoch: 001/14999 | Loss: 0.0003 | Episodes: 102 | Win count: 1 | Win rate: 0.000 | time: 8.3 seconds\n",
      "Epoch: 002/14999 | Loss: 0.0039 | Episodes: 18 | Win count: 2 | Win rate: 0.000 | time: 8.8 seconds\n",
      "Epoch: 003/14999 | Loss: 0.0001 | Episodes: 134 | Win count: 2 | Win rate: 0.000 | time: 12.9 seconds\n",
      "Epoch: 004/14999 | Loss: 0.0002 | Episodes: 134 | Win count: 2 | Win rate: 0.000 | time: 16.6 seconds\n",
      "Epoch: 005/14999 | Loss: 0.0011 | Episodes: 142 | Win count: 2 | Win rate: 0.000 | time: 20.7 seconds\n",
      "Epoch: 006/14999 | Loss: 0.0001 | Episodes: 146 | Win count: 2 | Win rate: 0.000 | time: 25.0 seconds\n",
      "Epoch: 007/14999 | Loss: 0.0013 | Episodes: 55 | Win count: 3 | Win rate: 0.000 | time: 26.5 seconds\n",
      "Epoch: 008/14999 | Loss: 0.0002 | Episodes: 29 | Win count: 4 | Win rate: 0.000 | time: 27.4 seconds\n",
      "Epoch: 009/14999 | Loss: 0.0013 | Episodes: 2 | Win count: 5 | Win rate: 0.000 | time: 27.4 seconds\n",
      "Epoch: 010/14999 | Loss: 0.0006 | Episodes: 14 | Win count: 6 | Win rate: 0.000 | time: 27.8 seconds\n",
      "Epoch: 011/14999 | Loss: 0.0022 | Episodes: 43 | Win count: 7 | Win rate: 0.000 | time: 29.1 seconds\n",
      "Epoch: 012/14999 | Loss: 0.0011 | Episodes: 12 | Win count: 8 | Win rate: 0.000 | time: 29.4 seconds\n",
      "Epoch: 013/14999 | Loss: 0.0018 | Episodes: 17 | Win count: 9 | Win rate: 0.000 | time: 29.9 seconds\n",
      "Epoch: 014/14999 | Loss: 0.0013 | Episodes: 143 | Win count: 9 | Win rate: 0.000 | time: 34.0 seconds\n",
      "Epoch: 015/14999 | Loss: 0.0011 | Episodes: 33 | Win count: 10 | Win rate: 0.000 | time: 34.9 seconds\n",
      "Epoch: 016/14999 | Loss: 0.0008 | Episodes: 28 | Win count: 11 | Win rate: 0.000 | time: 35.7 seconds\n",
      "Epoch: 017/14999 | Loss: 0.0017 | Episodes: 2 | Win count: 12 | Win rate: 0.000 | time: 35.7 seconds\n",
      "Epoch: 018/14999 | Loss: 0.0012 | Episodes: 31 | Win count: 13 | Win rate: 0.000 | time: 36.6 seconds\n",
      "Epoch: 019/14999 | Loss: 0.0007 | Episodes: 14 | Win count: 14 | Win rate: 0.000 | time: 37.0 seconds\n",
      "Epoch: 020/14999 | Loss: 0.0015 | Episodes: 142 | Win count: 14 | Win rate: 0.000 | time: 41.0 seconds\n",
      "Epoch: 021/14999 | Loss: 0.0026 | Episodes: 21 | Win count: 15 | Win rate: 0.000 | time: 41.7 seconds\n",
      "Epoch: 022/14999 | Loss: 0.0003 | Episodes: 5 | Win count: 16 | Win rate: 0.000 | time: 41.8 seconds\n",
      "Epoch: 023/14999 | Loss: 0.0003 | Episodes: 2 | Win count: 17 | Win rate: 0.000 | time: 41.9 seconds\n",
      "Epoch: 024/14999 | Loss: 0.0017 | Episodes: 138 | Win count: 17 | Win rate: 0.000 | time: 45.8 seconds\n",
      "Epoch: 025/14999 | Loss: 0.0002 | Episodes: 10 | Win count: 18 | Win rate: 0.000 | time: 46.1 seconds\n",
      "Epoch: 026/14999 | Loss: 0.0006 | Episodes: 140 | Win count: 18 | Win rate: 0.000 | time: 50.1 seconds\n",
      "Epoch: 027/14999 | Loss: 0.0006 | Episodes: 8 | Win count: 19 | Win rate: 0.000 | time: 50.3 seconds\n",
      "Epoch: 028/14999 | Loss: 0.0008 | Episodes: 15 | Win count: 20 | Win rate: 0.000 | time: 50.7 seconds\n",
      "Epoch: 029/14999 | Loss: 0.0003 | Episodes: 10 | Win count: 21 | Win rate: 0.000 | time: 51.0 seconds\n",
      "Epoch: 030/14999 | Loss: 0.0010 | Episodes: 138 | Win count: 21 | Win rate: 0.000 | time: 54.8 seconds\n",
      "Epoch: 031/14999 | Loss: 0.0010 | Episodes: 1 | Win count: 22 | Win rate: 0.000 | time: 54.8 seconds\n",
      "Epoch: 032/14999 | Loss: 0.0006 | Episodes: 3 | Win count: 23 | Win rate: 0.719 | time: 54.9 seconds\n",
      "Epoch: 033/14999 | Loss: 0.0009 | Episodes: 138 | Win count: 23 | Win rate: 0.688 | time: 58.8 seconds\n",
      "Epoch: 034/14999 | Loss: 0.0005 | Episodes: 134 | Win count: 23 | Win rate: 0.656 | time: 62.7 seconds\n",
      "Epoch: 035/14999 | Loss: 0.0009 | Episodes: 67 | Win count: 24 | Win rate: 0.688 | time: 64.6 seconds\n",
      "Epoch: 036/14999 | Loss: 0.0011 | Episodes: 4 | Win count: 25 | Win rate: 0.719 | time: 64.8 seconds\n",
      "Epoch: 037/14999 | Loss: 0.0002 | Episodes: 23 | Win count: 26 | Win rate: 0.750 | time: 65.4 seconds\n",
      "Epoch: 038/14999 | Loss: 0.0008 | Episodes: 141 | Win count: 26 | Win rate: 0.750 | time: 69.5 seconds\n",
      "Epoch: 039/14999 | Loss: 0.0003 | Episodes: 67 | Win count: 27 | Win rate: 0.750 | time: 71.4 seconds\n",
      "Epoch: 040/14999 | Loss: 0.0009 | Episodes: 1 | Win count: 28 | Win rate: 0.750 | time: 71.5 seconds\n",
      "Epoch: 041/14999 | Loss: 0.0007 | Episodes: 11 | Win count: 29 | Win rate: 0.750 | time: 71.8 seconds\n",
      "Epoch: 042/14999 | Loss: 0.0010 | Episodes: 17 | Win count: 30 | Win rate: 0.750 | time: 72.4 seconds\n",
      "Epoch: 043/14999 | Loss: 0.0011 | Episodes: 55 | Win count: 31 | Win rate: 0.750 | time: 74.0 seconds\n",
      "Epoch: 044/14999 | Loss: 0.0003 | Episodes: 20 | Win count: 32 | Win rate: 0.750 | time: 74.6 seconds\n",
      "Epoch: 045/14999 | Loss: 0.0029 | Episodes: 33 | Win count: 33 | Win rate: 0.750 | time: 75.5 seconds\n",
      "Epoch: 046/14999 | Loss: 0.0034 | Episodes: 1 | Win count: 34 | Win rate: 0.781 | time: 75.6 seconds\n",
      "Epoch: 047/14999 | Loss: 0.0013 | Episodes: 134 | Win count: 34 | Win rate: 0.750 | time: 79.7 seconds\n",
      "Epoch: 048/14999 | Loss: 0.0010 | Episodes: 26 | Win count: 35 | Win rate: 0.750 | time: 80.7 seconds\n",
      "Epoch: 049/14999 | Loss: 0.0002 | Episodes: 31 | Win count: 36 | Win rate: 0.750 | time: 81.6 seconds\n",
      "Epoch: 050/14999 | Loss: 0.0011 | Episodes: 31 | Win count: 37 | Win rate: 0.750 | time: 82.5 seconds\n",
      "Epoch: 051/14999 | Loss: 0.0018 | Episodes: 1 | Win count: 38 | Win rate: 0.750 | time: 82.6 seconds\n",
      "Epoch: 052/14999 | Loss: 0.0013 | Episodes: 22 | Win count: 39 | Win rate: 0.781 | time: 83.2 seconds\n",
      "Epoch: 053/14999 | Loss: 0.0010 | Episodes: 8 | Win count: 40 | Win rate: 0.781 | time: 83.4 seconds\n",
      "Epoch: 054/14999 | Loss: 0.0006 | Episodes: 3 | Win count: 41 | Win rate: 0.781 | time: 83.5 seconds\n",
      "Epoch: 055/14999 | Loss: 0.0017 | Episodes: 3 | Win count: 42 | Win rate: 0.781 | time: 83.6 seconds\n",
      "Epoch: 056/14999 | Loss: 0.0004 | Episodes: 11 | Win count: 43 | Win rate: 0.812 | time: 83.9 seconds\n",
      "Epoch: 057/14999 | Loss: 0.0003 | Episodes: 19 | Win count: 44 | Win rate: 0.812 | time: 84.5 seconds\n",
      "Epoch: 058/14999 | Loss: 0.0005 | Episodes: 92 | Win count: 45 | Win rate: 0.844 | time: 87.0 seconds\n",
      "Epoch: 059/14999 | Loss: 0.0013 | Episodes: 34 | Win count: 46 | Win rate: 0.844 | time: 88.0 seconds\n",
      "Epoch: 060/14999 | Loss: 0.0006 | Episodes: 36 | Win count: 47 | Win rate: 0.844 | time: 89.0 seconds\n",
      "Epoch: 061/14999 | Loss: 0.0016 | Episodes: 34 | Win count: 48 | Win rate: 0.844 | time: 90.0 seconds\n",
      "Epoch: 062/14999 | Loss: 0.0011 | Episodes: 5 | Win count: 49 | Win rate: 0.875 | time: 90.1 seconds\n",
      "Epoch: 063/14999 | Loss: 0.0007 | Episodes: 13 | Win count: 50 | Win rate: 0.875 | time: 90.5 seconds\n",
      "Epoch: 064/14999 | Loss: 0.0025 | Episodes: 6 | Win count: 51 | Win rate: 0.875 | time: 90.6 seconds\n",
      "Epoch: 065/14999 | Loss: 0.0002 | Episodes: 20 | Win count: 52 | Win rate: 0.906 | time: 91.2 seconds\n",
      "Epoch: 066/14999 | Loss: 0.0008 | Episodes: 25 | Win count: 53 | Win rate: 0.938 | time: 92.0 seconds\n",
      "Epoch: 067/14999 | Loss: 0.0004 | Episodes: 13 | Win count: 54 | Win rate: 0.938 | time: 92.4 seconds\n",
      "Epoch: 068/14999 | Loss: 0.0003 | Episodes: 34 | Win count: 55 | Win rate: 0.938 | time: 93.3 seconds\n",
      "Epoch: 069/14999 | Loss: 0.0005 | Episodes: 17 | Win count: 56 | Win rate: 0.938 | time: 93.8 seconds\n",
      "Epoch: 070/14999 | Loss: 0.0005 | Episodes: 11 | Win count: 57 | Win rate: 0.969 | time: 94.1 seconds\n",
      "Epoch: 071/14999 | Loss: 0.0006 | Episodes: 40 | Win count: 58 | Win rate: 0.969 | time: 95.3 seconds\n",
      "Epoch: 072/14999 | Loss: 0.0002 | Episodes: 27 | Win count: 59 | Win rate: 0.969 | time: 96.1 seconds\n",
      "Epoch: 073/14999 | Loss: 0.0004 | Episodes: 29 | Win count: 60 | Win rate: 0.969 | time: 97.0 seconds\n",
      "Epoch: 074/14999 | Loss: 0.0017 | Episodes: 41 | Win count: 61 | Win rate: 0.969 | time: 98.2 seconds\n",
      "Epoch: 075/14999 | Loss: 0.0013 | Episodes: 1 | Win count: 62 | Win rate: 0.969 | time: 98.2 seconds\n",
      "Epoch: 076/14999 | Loss: 0.0011 | Episodes: 27 | Win count: 63 | Win rate: 0.969 | time: 99.0 seconds\n",
      "Epoch: 077/14999 | Loss: 0.0010 | Episodes: 27 | Win count: 64 | Win rate: 0.969 | time: 99.8 seconds\n",
      "Epoch: 078/14999 | Loss: 0.0003 | Episodes: 71 | Win count: 65 | Win rate: 0.969 | time: 101.8 seconds\n",
      "Epoch: 079/14999 | Loss: 0.0010 | Episodes: 29 | Win count: 66 | Win rate: 1.000 | time: 102.6 seconds\n",
      "Epoch: 080/14999 | Loss: 0.0009 | Episodes: 14 | Win count: 67 | Win rate: 1.000 | time: 103.1 seconds\n"
     ]
    },
    {
     "name": "stdout",
     "output_type": "stream",
     "text": [
      "Epoch: 081/14999 | Loss: 0.0002 | Episodes: 31 | Win count: 68 | Win rate: 1.000 | time: 104.4 seconds\n",
      "Epoch: 082/14999 | Loss: 0.0004 | Episodes: 2 | Win count: 69 | Win rate: 1.000 | time: 104.9 seconds\n",
      "Reached 100% win rate at epoch: 82\n",
      "n_epoch: 82, max_mem: 512, data: 32, time: 105.5 seconds\n"
     ]
    },
    {
     "data": {
      "text/plain": [
       "105.468622"
      ]
     },
     "execution_count": 53,
     "metadata": {},
     "output_type": "execute_result"
    }
   ],
   "source": [
    "model = build_model(maze)\n",
    "qtrain(model, maze, epochs=1000, max_memory=8*maze.size, data_size=32)"
   ]
  },
  {
   "cell_type": "markdown",
   "metadata": {},
   "source": [
    "This cell will check to see if the model passes the completion check. Note: This could take several minutes."
   ]
  },
  {
   "cell_type": "code",
   "execution_count": 54,
   "metadata": {},
   "outputs": [
    {
     "data": {
      "text/plain": [
       "<matplotlib.image.AxesImage at 0x1d94e181e48>"
      ]
     },
     "execution_count": 54,
     "metadata": {},
     "output_type": "execute_result"
    },
    {
     "data": {
      "image/png": "[encoded data removed]",
      "text/plain": [
       "<Figure size 432x288 with 1 Axes>"
      ]
     },
     "metadata": {
      "needs_background": "light"
     },
     "output_type": "display_data"
    }
   ],
   "source": [
    "completion_check(model, qmaze)\n",
    "show(qmaze)"
   ]
  },
  {
   "cell_type": "markdown",
   "metadata": {},
   "source": [
    "This cell will test your model for one game. It will start the pirate at the top-left corner and run play_game. The agent should find a path from the starting position to the target (treasure). The treasure is located in the bottom-right corner."
   ]
  },
  {
   "cell_type": "code",
   "execution_count": 55,
   "metadata": {},
   "outputs": [
    {
     "data": {
      "text/plain": [
       "<matplotlib.image.AxesImage at 0x1d94bf737c8>"
      ]
     },
     "execution_count": 55,
     "metadata": {},
     "output_type": "execute_result"
    },
    {
     "data": {
      "image/png": "[encoded data removed]",
      "text/plain": [
       "<Figure size 432x288 with 1 Axes>"
      ]
     },
     "metadata": {
      "needs_background": "light"
     },
     "output_type": "display_data"
    }
   ],
   "source": [
    "pirate_start = (0, 0)\n",
    "play_game(model, qmaze, pirate_start)\n",
    "show(qmaze)"
   ]
  },
  {
   "cell_type": "markdown",
   "metadata": {},
   "source": [
    "## Save and Submit Your Work\n",
    "After you have finished creating the code for your notebook, save your work. Make sure that your notebook contains your name in the filename (e.g. Doe_Jane_ProjectTwo.ipynb). This will help your instructor access and grade your work easily. Download a copy of your IPYNB file and submit it to Brightspace. Refer to the Jupyter Notebook in Apporto Tutorial if you need help with these tasks."
   ]
  }
 ],
 "metadata": {
  "kernelspec": {
   "display_name": "Python 3",
   "language": "python",
   "name": "python3"
  },
  "language_info": {
   "codemirror_mode": {
    "name": "ipython",
    "version": 3
   },
   "file_extension": ".py",
   "mimetype": "text/x-python",
   "name": "python",
   "nbconvert_exporter": "python",
   "pygments_lexer": "ipython3",
   "version": "3.7.4"
  }
 },
 "nbformat": 4,
 "nbformat_minor": 2
}
